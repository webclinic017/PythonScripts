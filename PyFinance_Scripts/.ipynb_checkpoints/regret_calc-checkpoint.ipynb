{
 "cells": [
  {
   "cell_type": "code",
   "execution_count": 1,
   "metadata": {},
   "outputs": [],
   "source": [
    "from nsepy import get_history\n",
    "from datetime import datetime,timedelta\n",
    "import yfinance as yf\n",
    "import talib as tb\n",
    "import pandas as pd\n",
    "import time"
   ]
  },
  {
   "cell_type": "code",
   "execution_count": 2,
   "metadata": {},
   "outputs": [],
   "source": [
    "def buy(tick,amount,start,end=None):\n",
    "    '''\n",
    "    This function will calculate the returns you would have got if you had invested certain amount in stock in the past.\n",
    "    \n",
    "    buy(tick,amount,start,end=None)\n",
    "    \n",
    "    tick = the ticker for the stock in listed stock exchange. [This function uses yfinance]\n",
    "    amount= The amount you wish you had invested.\n",
    "    start= The day you wish you had invested. [YYYY-MM-DD]\n",
    "    end= Exit date. default is current date.\n",
    "    \n",
    "    returns No of shares, Entry price (price of 1 share at entry), Exit price (price of 1 share at exit), Current value, Percentage increase/decrease\n",
    "    This function takes care of stock spilits.\n",
    "    '''\n",
    "    \n",
    "    if end==None:\n",
    "        to_date=datetime.strptime(datetime.today().strftime(\"%Y-%m-%d\"),\"%Y-%m-%d\") \n",
    "    elif type(end) == str:\n",
    "        to_date=datetime.strptime(end,\"%Y-%m-%d\")\n",
    "    else:\n",
    "        to_date=end\n",
    "    \n",
    "    if type(start) == str:\n",
    "        from_date=datetime.strptime(start,\"%Y-%m-%d\")\n",
    "    else:\n",
    "        from_date=datetime.strptime(start.strftime(\"%Y-%m-%d\"),\"%Y-%m-%d\") \n",
    "        \n",
    "#   Get historic data for ticker provided\n",
    "    security=yf.Ticker(tick)\n",
    "    hist_N50=security.history(start=from_date,end=to_date,interval='1d')\n",
    "    hist_N50['Symbol']=tick\n",
    "    \n",
    "    data=hist_N50[hist_N50['Symbol']==tick]\n",
    "    \n",
    "    entry_price=data['Close'].iloc[0]\n",
    "    exit_price=data['Close'].iloc[-1]\n",
    "    no_of_shares=round(amount/entry_price,3)\n",
    "    # Calculate stock splits if any\n",
    "    stock_splits=security.splits[from_date:to_date]\n",
    "    for split in stock_splits:\n",
    "        no_of_shares*=split\n",
    "    curr_val=round(no_of_shares*exit_price,3)\n",
    "    percentage=round((exit_price-entry_price)/entry_price*100,2)\n",
    "    \n",
    "    return no_of_shares,entry_price,exit_price,curr_val,percentage\n"
   ]
  },
  {
   "cell_type": "code",
   "execution_count": 3,
   "metadata": {},
   "outputs": [
    {
     "data": {
      "text/plain": [
       "(1.547, 646.35791015625, 458.75, 709.686, -29.03)"
      ]
     },
     "execution_count": 3,
     "metadata": {},
     "output_type": "execute_result"
    }
   ],
   "source": [
    "shares,entry_price,exit_price,curr_val,percentage=buy('WIPRO.NS',1000,'2021-10-10','2022-10-10')\n",
    "shares,entry_price,exit_price,curr_val,percentage"
   ]
  },
  {
   "cell_type": "code",
   "execution_count": 4,
   "metadata": {},
   "outputs": [
    {
     "name": "stdout",
     "output_type": "stream",
     "text": [
      "-29.03%\n"
     ]
    }
   ],
   "source": [
    "print(\"{}%\".format(percentage))"
   ]
  },
  {
   "cell_type": "code",
   "execution_count": null,
   "metadata": {},
   "outputs": [],
   "source": []
  }
 ],
 "metadata": {
  "kernelspec": {
   "display_name": "Python 3",
   "language": "python",
   "name": "python3"
  },
  "language_info": {
   "codemirror_mode": {
    "name": "ipython",
    "version": 3
   },
   "file_extension": ".py",
   "mimetype": "text/x-python",
   "name": "python",
   "nbconvert_exporter": "python",
   "pygments_lexer": "ipython3",
   "version": "3.8.5"
  }
 },
 "nbformat": 4,
 "nbformat_minor": 4
}
