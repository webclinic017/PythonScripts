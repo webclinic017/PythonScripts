{
 "cells": [
  {
   "cell_type": "code",
   "execution_count": 1,
   "metadata": {},
   "outputs": [],
   "source": [
    "from nsepy import get_history\n",
    "from datetime import datetime,timedelta\n",
    "import pandas as pd\n",
    "import time\n",
    "from scan_breakouts import daily_scan\n",
    "from get_histdata import GetHistData_nse"
   ]
  },
  {
   "cell_type": "code",
   "execution_count": 2,
   "metadata": {},
   "outputs": [
    {
     "data": {
      "text/plain": [
       "(datetime.datetime(2022, 6, 11, 0, 0), datetime.datetime(2022, 3, 13, 0, 0))"
      ]
     },
     "execution_count": 2,
     "metadata": {},
     "output_type": "execute_result"
    }
   ],
   "source": [
    "look_back=90 #days ago\n",
    "look_upto=0 #days ago; 0=today\n",
    "uptrend_period=3 #days\n",
    "to_date=(datetime.today()-timedelta(look_upto)).strftime(\"%Y-%m-%d\")\n",
    "from_date=(datetime.today()-timedelta(look_back)).strftime(\"%Y-%m-%d\")\n",
    "# Convert string datetime to datetime\n",
    "to_date=datetime.strptime(to_date,\"%Y-%m-%d\")\n",
    "from_date=datetime.strptime(from_date,\"%Y-%m-%d\")\n",
    "to_date,from_date"
   ]
  },
  {
   "cell_type": "code",
   "execution_count": 3,
   "metadata": {},
   "outputs": [
    {
     "name": "stdout",
     "output_type": "stream",
     "text": [
      "Getting Nifty50 stocks from wikipedia...\n",
      "Import successful!!\n"
     ]
    }
   ],
   "source": [
    "print(\"Getting Nifty50 stocks from wikipedia...\")\n",
    "N50_symbols=pd.read_html('https://en.wikipedia.org/wiki/NIFTY_50')[1]\n",
    "print(\"Import successful!!\")\n",
    "tickers=N50_symbols['Symbol'].to_list()\n",
    "# tickers=['BAJAJ-AUTO']"
   ]
  },
  {
   "cell_type": "code",
   "execution_count": null,
   "metadata": {},
   "outputs": [],
   "source": [
    "hist_N50=GetHistData_nse(tickers,from_date,to_date)\n",
    "hist_N50.tail()"
   ]
  },
  {
   "cell_type": "code",
   "execution_count": 13,
   "metadata": {},
   "outputs": [
    {
     "data": {
      "text/plain": [
       "(['POWERGRID'], [])"
      ]
     },
     "execution_count": 13,
     "metadata": {},
     "output_type": "execute_result"
    }
   ],
   "source": [
    "daily_scan(hist_N50,7,1)"
   ]
  },
  {
   "cell_type": "code",
   "execution_count": null,
   "metadata": {},
   "outputs": [],
   "source": []
  }
 ],
 "metadata": {
  "kernelspec": {
   "display_name": "Python 3",
   "language": "python",
   "name": "python3"
  },
  "language_info": {
   "codemirror_mode": {
    "name": "ipython",
    "version": 3
   },
   "file_extension": ".py",
   "mimetype": "text/x-python",
   "name": "python",
   "nbconvert_exporter": "python",
   "pygments_lexer": "ipython3",
   "version": "3.8.5"
  }
 },
 "nbformat": 4,
 "nbformat_minor": 4
}
