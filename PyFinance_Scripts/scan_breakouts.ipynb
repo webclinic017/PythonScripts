{
 "cells": [
  {
   "cell_type": "code",
   "execution_count": 13,
   "metadata": {},
   "outputs": [],
   "source": [
    "import numpy as np\n",
    "import pandas as pd\n",
    "import yfinance as yf\n",
    "from datetime import datetime,timedelta\n",
    "import time\n",
    "from get_histdata import GetHistData_yf\n",
    "from regret_calc import CalculateReturns,CalculateReturnsList"
   ]
  },
  {
   "cell_type": "code",
   "execution_count": 2,
   "metadata": {},
   "outputs": [],
   "source": [
    "# Variables for yfinance\n",
    "look_back=15 #days ago\n",
    "look_upto=0 #days ago; 0=today\n",
    "uptrend_period=3 #days\n",
    "interval='1d' \n",
    "\n",
    "to_date=(datetime.today()-timedelta(look_upto)).strftime(\"%Y-%m-%d\")\n",
    "from_date=(datetime.today()-timedelta(look_back)).strftime(\"%Y-%m-%d\")\n",
    "# Convert string datetime to datetime datatype\n",
    "to_date=datetime.strptime(to_date,\"%Y-%m-%d\")\n",
    "from_date=datetime.strptime(from_date,\"%Y-%m-%d\")"
   ]
  },
  {
   "cell_type": "code",
   "execution_count": 3,
   "metadata": {},
   "outputs": [],
   "source": [
    "data=pd.read_html('https://en.wikipedia.org/wiki/NIFTY_50')[1]\n",
    "tickers=data['Symbol'].to_list()\n",
    "tickers=[\"{}.NS\".format(tick) for tick in tickers]\n",
    "# hist_N50=GetHistData_yf(tickers,from_date,to_date)"
   ]
  },
  {
   "cell_type": "code",
   "execution_count": 4,
   "metadata": {
    "scrolled": true
   },
   "outputs": [],
   "source": [
    "# start_time = time.time()\n",
    "# hist_N50=pd.DataFrame()\n",
    "# # Get historical data\n",
    "# print(\"Getting historical using yfinance\")\n",
    "# print(\"Fetching data from {} to {}\".format(from_date,to_date))\n",
    "\n",
    "# for i,tick in enumerate(tickers):\n",
    "#     security=yf.Ticker(tick)\n",
    "# #     print(i,tick)\n",
    "# #     print(security.splits)\n",
    "#     if i == 0 :\n",
    "#         hist_N50=security.history(start=from_date,end=to_date,interval=interval)\n",
    "#         hist_N50['Symbol']=tick\n",
    "#     else :\n",
    "#         df2=security.history(start=from_date,end=to_date,interval=interval)\n",
    "#         df2['Symbol']=tick\n",
    "#         hist_N50=pd.concat([hist_N50,df2])\n",
    "\n",
    "# print(\"--- %s seconds ---\" % (time.time() - start_time))\n"
   ]
  },
  {
   "cell_type": "code",
   "execution_count": 5,
   "metadata": {},
   "outputs": [],
   "source": [
    "def is_consolidating(df,period=15,percentage=2.5):\n",
    "    recent_closes=df[-period:]['Close']\n",
    "    max_close=recent_closes.max()\n",
    "    min_close=recent_closes.min()\n",
    "    \n",
    "    if df.shape[0]<period:\n",
    "        return False\n",
    "    \n",
    "    threshold=1-(percentage/100)\n",
    "    if min_close > (threshold*max_close):\n",
    "        return True\n",
    "    return False\n",
    "\n",
    "def is_breakingout(df,period=15,percentage=2.5):\n",
    "    last_close=df[-1:]['Close'][0]\n",
    "    \n",
    "    if is_consolidating(df[:-1],period,percentage):\n",
    "        recent_closes=df[-(period+1):-1]['Close']\n",
    "        if last_close > recent_closes.max():\n",
    "            return True\n",
    "    return False"
   ]
  },
  {
   "cell_type": "code",
   "execution_count": 6,
   "metadata": {},
   "outputs": [],
   "source": [
    "def backtest():\n",
    "    for i,tick in enumerate(tickers):\n",
    "        row1=0\n",
    "        row2=16\n",
    "        df1=hist_N50[hist_N50['Symbol']==tick]\n",
    "        for k in range(df1.shape[0]+1):\n",
    "            df=df1[row1:row2]\n",
    "            if not df.empty:\n",
    "    #             print(\"{} for timeperiod {} to {}\".format(tick,df.index[0],df.index[-1]))            \n",
    "    #             if is_consolidating(df,15,2.5):\n",
    "    #                 print(\"for timeperiod {} to {}\".format(df.index[0],df.index[-1]))\n",
    "    #                 print(\"{} is consolidating.\".format(tick))\n",
    "    #                 print(\"\")\n",
    "                if is_breakingout(df,10,2.5):\n",
    "                    print(\"for timeperiod {} to {}\".format(df.index[0],df.index[-1]))\n",
    "                    print(\"{} is breakingout!!.\".format(tick))\n",
    "#                     print(\"\")\n",
    "            row1+=1\n",
    "            row2+=1\n",
    "    #     break\n"
   ]
  },
  {
   "cell_type": "code",
   "execution_count": 7,
   "metadata": {},
   "outputs": [],
   "source": [
    "def daily_scan(df_in,period=10,pct_chg=2.5):\n",
    "    '''This functions scans the dataframe with historical values for stocks that are breaking out or consolidating.\n",
    "    usage: daily_scan(df_in,period=10,pct_chg=2.5)\n",
    "    returns 2 lists\n",
    "    ----------------------------\n",
    "    (df_in, pd.DataFrame)        : A pandas DataFrame containing 'Close' column with closing prices for the required period.\n",
    "                                   df_in should also have a column 'Symbol' which contains stock tickers.\n",
    "    (period, int, optional)      : period of scan. default is 10 days.\n",
    "    (pct_chg, float, optional)   : Percentage change in close prices for the period provided. default is 2.5%.\n",
    "                                   stock whose close price in past 10 days or the period provided is below \n",
    "                                   2.5% of the max close price in this range (consolidating).\n",
    "    ----------------------------\n",
    "    returns 2 lists              list 1 = list of consolidating stocks.\n",
    "                                 list 2 = list of stocks that are breaking out.\n",
    "    '''\n",
    "    \n",
    "    rows=period+5\n",
    "    cons_stock_list=[]\n",
    "    breaking=[]\n",
    "    tickers=df_in['Symbol'].unique()\n",
    "    for i,tick in enumerate(tickers):\n",
    "        df1=df_in[df_in['Symbol']==tick]\n",
    "        df=df1[-rows:]\n",
    "        if not df.empty:\n",
    "    #             print(\"{} for timeperiod {} to {}\".format(tick,df.index[0],df.index[-1]))            \n",
    "            if is_consolidating(df,period,pct_chg):\n",
    "    #             print(\"for timeperiod {} to {}\".format(df.index[0],df.index[-1]))\n",
    "#                 print(\"{} is consolidating.\".format(tick))\n",
    "                cons_stock_list.append(tick)\n",
    "#                 print(\"\")\n",
    "            if is_breakingout(df,period,pct_chg):\n",
    "    #             print(\"for timeperiod {} to {}\".format(df.index[0],df.index[-1]))\n",
    "#                 print(\"{} is breakingout!!.\".format(tick))\n",
    "#                 print(\"\")\n",
    "                breaking.append(tick)\n",
    "    return cons_stock_list,breaking\n"
   ]
  },
  {
   "cell_type": "code",
   "execution_count": 8,
   "metadata": {},
   "outputs": [
    {
     "name": "stdout",
     "output_type": "stream",
     "text": [
      "Getting historical using yfinance\n",
      "Fetching data from 2022-05-29 00:00:00 to 2022-06-13 00:00:00\n",
      "--- 24.387270212173462 seconds ---\n"
     ]
    },
    {
     "data": {
      "text/plain": [
       "(['HDFCLIFE.NS', 'TCS.NS', 'TATACONSUM.NS'], [])"
      ]
     },
     "execution_count": 8,
     "metadata": {},
     "output_type": "execute_result"
    }
   ],
   "source": [
    "daily_scan(GetHistData_yf(tickers,from_date,to_date))"
   ]
  },
  {
   "cell_type": "code",
   "execution_count": 14,
   "metadata": {},
   "outputs": [
    {
     "name": "stdout",
     "output_type": "stream",
     "text": [
      "--- 0.619182825088501 seconds ---\n"
     ]
    },
    {
     "data": {
      "text/html": [
       "<div>\n",
       "<style scoped>\n",
       "    .dataframe tbody tr th:only-of-type {\n",
       "        vertical-align: middle;\n",
       "    }\n",
       "\n",
       "    .dataframe tbody tr th {\n",
       "        vertical-align: top;\n",
       "    }\n",
       "\n",
       "    .dataframe thead th {\n",
       "        text-align: right;\n",
       "    }\n",
       "</style>\n",
       "<table border=\"1\" class=\"dataframe\">\n",
       "  <thead>\n",
       "    <tr style=\"text-align: right;\">\n",
       "      <th></th>\n",
       "      <th>Symbol</th>\n",
       "      <th>Shares</th>\n",
       "      <th>Entry_date</th>\n",
       "      <th>Exit_date</th>\n",
       "      <th>Entry_price</th>\n",
       "      <th>Exit_price</th>\n",
       "      <th>Invested</th>\n",
       "      <th>Current_val</th>\n",
       "      <th>Days_HODL</th>\n",
       "      <th>Percentage_chg</th>\n",
       "    </tr>\n",
       "  </thead>\n",
       "  <tbody>\n",
       "    <tr>\n",
       "      <th>0</th>\n",
       "      <td>HDFCLIFE.NS</td>\n",
       "      <td>14.0</td>\n",
       "      <td>2021-10-10</td>\n",
       "      <td>2022-06-13</td>\n",
       "      <td>715.3</td>\n",
       "      <td>593.1</td>\n",
       "      <td>10000</td>\n",
       "      <td>8291.54</td>\n",
       "      <td>246</td>\n",
       "      <td>-17.08%</td>\n",
       "    </tr>\n",
       "  </tbody>\n",
       "</table>\n",
       "</div>"
      ],
      "text/plain": [
       "        Symbol  Shares  Entry_date   Exit_date  Entry_price  Exit_price  \\\n",
       "0  HDFCLIFE.NS    14.0  2021-10-10  2022-06-13        715.3       593.1   \n",
       "\n",
       "   Invested  Current_val  Days_HODL Percentage_chg  \n",
       "0     10000      8291.54        246        -17.08%  "
      ]
     },
     "execution_count": 14,
     "metadata": {},
     "output_type": "execute_result"
    }
   ],
   "source": [
    "CalculateReturnsList(['HDFCLIFE.NS'],10000,'2021-10-10')"
   ]
  },
  {
   "cell_type": "code",
   "execution_count": null,
   "metadata": {},
   "outputs": [],
   "source": [
    "print(daily_scan.__doc__)"
   ]
  },
  {
   "cell_type": "code",
   "execution_count": null,
   "metadata": {},
   "outputs": [],
   "source": []
  }
 ],
 "metadata": {
  "kernelspec": {
   "display_name": "Python 3",
   "language": "python",
   "name": "python3"
  },
  "language_info": {
   "codemirror_mode": {
    "name": "ipython",
    "version": 3
   },
   "file_extension": ".py",
   "mimetype": "text/x-python",
   "name": "python",
   "nbconvert_exporter": "python",
   "pygments_lexer": "ipython3",
   "version": "3.8.5"
  }
 },
 "nbformat": 4,
 "nbformat_minor": 4
}
